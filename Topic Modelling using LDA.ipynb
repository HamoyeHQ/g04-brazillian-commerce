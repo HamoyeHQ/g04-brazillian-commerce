{
 "cells": [
  {
   "cell_type": "markdown",
   "metadata": {},
   "source": [
    "# IMPORTING PACKAGES AND LOADING THE DATA"
   ]
  },
  {
   "cell_type": "code",
   "execution_count": 4,
   "metadata": {},
   "outputs": [
    {
     "name": "stderr",
     "output_type": "stream",
     "text": [
      "C:\\ProgramData\\Anaconda3\\lib\\site-packages\\ipykernel_launcher.py:22: FutureWarning: Passing a negative integer is deprecated in version 1.0 and will not be supported in future version. Instead, use None to not limit the column width.\n"
     ]
    }
   ],
   "source": [
    "# Importing needed libraries\n",
    "import numpy as np\n",
    "import pandas as pd\n",
    "import seaborn as sns\n",
    "sns.set_style('whitegrid')\n",
    "import matplotlib.pyplot as plt\n",
    "%matplotlib inline\n",
    "from collections import Counter\n",
    "from sklearn.feature_extraction.text import CountVectorizer\n",
    "from sklearn.feature_extraction.text import TfidfVectorizer\n",
    "\n",
    "# NLTK tools for text processing\n",
    "import re, nltk\n",
    "from nltk import word_tokenize\n",
    "from nltk.corpus import stopwords\n",
    "from wordcloud import WordCloud, STOPWORDS\n",
    "\n",
    "import warnings\n",
    "warnings.simplefilter(\"ignore\", DeprecationWarning)\n",
    "\n",
    "from sklearn.decomposition import LatentDirichletAllocation as LDA\n",
    "pd.set_option('display.max_colwidth',-1)\n",
    "\n",
    "\n",
    "from IPython.core.interactiveshell import InteractiveShell\n",
    "InteractiveShell.ast_node_interactivity = 'all'"
   ]
  },
  {
   "cell_type": "code",
   "execution_count": 5,
   "metadata": {},
   "outputs": [],
   "source": [
    "## Uncomment and run the codes below to install language translator and have a view at the supported languages.\n",
    "# pip install google_trans_new\n",
    "# import google_trans_new\n",
    "# print(google_trans_new.LANGUAGES)\n",
    "\n",
    "# Special Portuguese stemmer package but this was not helpful when I used it.\n",
    "#nltk.download('rslp')\n",
    "#stemmer = nltk.stem.RSLPStemmer()"
   ]
  },
  {
   "cell_type": "code",
   "execution_count": 6,
   "metadata": {},
   "outputs": [
    {
     "name": "stdout",
     "output_type": "stream",
     "text": [
      "Excellent backpack, super fast delivery. \n"
     ]
    }
   ],
   "source": [
    "# Running an example of google translate(from portuguese to english), Data Connnection is required.\n",
    "from google_trans_new import google_translator\n",
    "translator = google_translator()\n",
    "translate_text = translator.translate('Excelente mochila, entrega super rápida.',lang_tgt='en',lang_src='pt' )\n",
    "print(translate_text)"
   ]
  },
  {
   "cell_type": "code",
   "execution_count": 7,
   "metadata": {},
   "outputs": [
    {
     "data": {
      "text/html": [
       "<div>\n",
       "<style scoped>\n",
       "    .dataframe tbody tr th:only-of-type {\n",
       "        vertical-align: middle;\n",
       "    }\n",
       "\n",
       "    .dataframe tbody tr th {\n",
       "        vertical-align: top;\n",
       "    }\n",
       "\n",
       "    .dataframe thead th {\n",
       "        text-align: right;\n",
       "    }\n",
       "</style>\n",
       "<table border=\"1\" class=\"dataframe\">\n",
       "  <thead>\n",
       "    <tr style=\"text-align: right;\">\n",
       "      <th></th>\n",
       "      <th>review_id</th>\n",
       "      <th>order_id</th>\n",
       "      <th>review_score</th>\n",
       "      <th>review_comment_title</th>\n",
       "      <th>review_comment_message</th>\n",
       "      <th>review_creation_date</th>\n",
       "      <th>review_answer_timestamp</th>\n",
       "    </tr>\n",
       "  </thead>\n",
       "  <tbody>\n",
       "    <tr>\n",
       "      <th>0</th>\n",
       "      <td>7bc2406110b926393aa56f80a40eba40</td>\n",
       "      <td>73fc7af87114b39712e6da79b0a377eb</td>\n",
       "      <td>4</td>\n",
       "      <td>NaN</td>\n",
       "      <td>NaN</td>\n",
       "      <td>2018-01-18 00:00:00</td>\n",
       "      <td>2018-01-18 21:46:59</td>\n",
       "    </tr>\n",
       "    <tr>\n",
       "      <th>1</th>\n",
       "      <td>80e641a11e56f04c1ad469d5645fdfde</td>\n",
       "      <td>a548910a1c6147796b98fdf73dbeba33</td>\n",
       "      <td>5</td>\n",
       "      <td>NaN</td>\n",
       "      <td>NaN</td>\n",
       "      <td>2018-03-10 00:00:00</td>\n",
       "      <td>2018-03-11 03:05:13</td>\n",
       "    </tr>\n",
       "    <tr>\n",
       "      <th>2</th>\n",
       "      <td>228ce5500dc1d8e020d8d1322874b6f0</td>\n",
       "      <td>f9e4b658b201a9f2ecdecbb34bed034b</td>\n",
       "      <td>5</td>\n",
       "      <td>NaN</td>\n",
       "      <td>NaN</td>\n",
       "      <td>2018-02-17 00:00:00</td>\n",
       "      <td>2018-02-18 14:36:24</td>\n",
       "    </tr>\n",
       "    <tr>\n",
       "      <th>3</th>\n",
       "      <td>e64fb393e7b32834bb789ff8bb30750e</td>\n",
       "      <td>658677c97b385a9be170737859d3511b</td>\n",
       "      <td>5</td>\n",
       "      <td>NaN</td>\n",
       "      <td>Recebi bem antes do prazo estipulado.</td>\n",
       "      <td>2017-04-21 00:00:00</td>\n",
       "      <td>2017-04-21 22:02:06</td>\n",
       "    </tr>\n",
       "    <tr>\n",
       "      <th>4</th>\n",
       "      <td>f7c4243c7fe1938f181bec41a392bdeb</td>\n",
       "      <td>8e6bfb81e283fa7e4f11123a3fb894f1</td>\n",
       "      <td>5</td>\n",
       "      <td>NaN</td>\n",
       "      <td>Parabéns lojas lannister adorei comprar pela Internet seguro e prático Parabéns a todos feliz Páscoa</td>\n",
       "      <td>2018-03-01 00:00:00</td>\n",
       "      <td>2018-03-02 10:26:53</td>\n",
       "    </tr>\n",
       "  </tbody>\n",
       "</table>\n",
       "</div>"
      ],
      "text/plain": [
       "                          review_id                          order_id  \\\n",
       "0  7bc2406110b926393aa56f80a40eba40  73fc7af87114b39712e6da79b0a377eb   \n",
       "1  80e641a11e56f04c1ad469d5645fdfde  a548910a1c6147796b98fdf73dbeba33   \n",
       "2  228ce5500dc1d8e020d8d1322874b6f0  f9e4b658b201a9f2ecdecbb34bed034b   \n",
       "3  e64fb393e7b32834bb789ff8bb30750e  658677c97b385a9be170737859d3511b   \n",
       "4  f7c4243c7fe1938f181bec41a392bdeb  8e6bfb81e283fa7e4f11123a3fb894f1   \n",
       "\n",
       "   review_score review_comment_title  \\\n",
       "0  4             NaN                   \n",
       "1  5             NaN                   \n",
       "2  5             NaN                   \n",
       "3  5             NaN                   \n",
       "4  5             NaN                   \n",
       "\n",
       "                                                                                 review_comment_message  \\\n",
       "0  NaN                                                                                                    \n",
       "1  NaN                                                                                                    \n",
       "2  NaN                                                                                                    \n",
       "3  Recebi bem antes do prazo estipulado.                                                                  \n",
       "4  Parabéns lojas lannister adorei comprar pela Internet seguro e prático Parabéns a todos feliz Páscoa   \n",
       "\n",
       "  review_creation_date review_answer_timestamp  \n",
       "0  2018-01-18 00:00:00  2018-01-18 21:46:59     \n",
       "1  2018-03-10 00:00:00  2018-03-11 03:05:13     \n",
       "2  2018-02-17 00:00:00  2018-02-18 14:36:24     \n",
       "3  2017-04-21 00:00:00  2017-04-21 22:02:06     \n",
       "4  2018-03-01 00:00:00  2018-03-02 10:26:53     "
      ]
     },
     "execution_count": 7,
     "metadata": {},
     "output_type": "execute_result"
    },
    {
     "data": {
      "text/plain": [
       "(100000, 7)"
      ]
     },
     "execution_count": 7,
     "metadata": {},
     "output_type": "execute_result"
    }
   ],
   "source": [
    "# Reading in the reviews dataset\n",
    "review_df = pd.read_csv('olist_order_reviews_dataset.csv')\n",
    "review_df.head()\n",
    "review_df.shape"
   ]
  },
  {
   "cell_type": "code",
   "execution_count": 8,
   "metadata": {},
   "outputs": [
    {
     "data": {
      "text/plain": [
       "review_id                  0    \n",
       "order_id                   0    \n",
       "review_score               0    \n",
       "review_comment_title       88285\n",
       "review_comment_message     58247\n",
       "review_creation_date       0    \n",
       "review_answer_timestamp    0    \n",
       "dtype: int64"
      ]
     },
     "execution_count": 8,
     "metadata": {},
     "output_type": "execute_result"
    }
   ],
   "source": [
    "# We have missing values in the reviews and their titles\n",
    "review_df.isnull().sum()"
   ]
  },
  {
   "cell_type": "markdown",
   "metadata": {},
   "source": [
    "# DATA PREPROCESSING"
   ]
  },
  {
   "cell_type": "markdown",
   "metadata": {},
   "source": [
    "#### To deal with these missing values, we would seperate the reviews and the titles and drop the missing rows seperately so that we don't have unequal shapes of rows."
   ]
  },
  {
   "cell_type": "code",
   "execution_count": 9,
   "metadata": {},
   "outputs": [],
   "source": [
    "review_data_title = review_df['review_comment_title']\n",
    "review_data = review_df.drop(['review_comment_title'],axis=1)\n"
   ]
  },
  {
   "cell_type": "code",
   "execution_count": 10,
   "metadata": {},
   "outputs": [],
   "source": [
    "# Dropping NaN values\n",
    "review_data  = review_data.dropna()\n",
    "review_data_title = review_data_title.dropna()\n"
   ]
  },
  {
   "cell_type": "code",
   "execution_count": 11,
   "metadata": {},
   "outputs": [
    {
     "data": {
      "text/html": [
       "<div>\n",
       "<style scoped>\n",
       "    .dataframe tbody tr th:only-of-type {\n",
       "        vertical-align: middle;\n",
       "    }\n",
       "\n",
       "    .dataframe tbody tr th {\n",
       "        vertical-align: top;\n",
       "    }\n",
       "\n",
       "    .dataframe thead th {\n",
       "        text-align: right;\n",
       "    }\n",
       "</style>\n",
       "<table border=\"1\" class=\"dataframe\">\n",
       "  <thead>\n",
       "    <tr style=\"text-align: right;\">\n",
       "      <th></th>\n",
       "      <th>review_id</th>\n",
       "      <th>order_id</th>\n",
       "      <th>review_score</th>\n",
       "      <th>review_comment_message</th>\n",
       "      <th>review_creation_date</th>\n",
       "      <th>review_answer_timestamp</th>\n",
       "    </tr>\n",
       "  </thead>\n",
       "  <tbody>\n",
       "    <tr>\n",
       "      <th>0</th>\n",
       "      <td>e64fb393e7b32834bb789ff8bb30750e</td>\n",
       "      <td>658677c97b385a9be170737859d3511b</td>\n",
       "      <td>5</td>\n",
       "      <td>Recebi bem antes do prazo estipulado.</td>\n",
       "      <td>2017-04-21 00:00:00</td>\n",
       "      <td>2017-04-21 22:02:06</td>\n",
       "    </tr>\n",
       "    <tr>\n",
       "      <th>1</th>\n",
       "      <td>f7c4243c7fe1938f181bec41a392bdeb</td>\n",
       "      <td>8e6bfb81e283fa7e4f11123a3fb894f1</td>\n",
       "      <td>5</td>\n",
       "      <td>Parabéns lojas lannister adorei comprar pela Internet seguro e prático Parabéns a todos feliz Páscoa</td>\n",
       "      <td>2018-03-01 00:00:00</td>\n",
       "      <td>2018-03-02 10:26:53</td>\n",
       "    </tr>\n",
       "    <tr>\n",
       "      <th>2</th>\n",
       "      <td>8670d52e15e00043ae7de4c01cc2fe06</td>\n",
       "      <td>b9bf720beb4ab3728760088589c62129</td>\n",
       "      <td>4</td>\n",
       "      <td>aparelho eficiente. no site a marca do aparelho esta impresso como 3desinfector e ao chegar esta com outro nome...atualizar com a marca correta uma vez que é o mesmo aparelho</td>\n",
       "      <td>2018-05-22 00:00:00</td>\n",
       "      <td>2018-05-23 16:45:47</td>\n",
       "    </tr>\n",
       "  </tbody>\n",
       "</table>\n",
       "</div>"
      ],
      "text/plain": [
       "                          review_id                          order_id  \\\n",
       "0  e64fb393e7b32834bb789ff8bb30750e  658677c97b385a9be170737859d3511b   \n",
       "1  f7c4243c7fe1938f181bec41a392bdeb  8e6bfb81e283fa7e4f11123a3fb894f1   \n",
       "2  8670d52e15e00043ae7de4c01cc2fe06  b9bf720beb4ab3728760088589c62129   \n",
       "\n",
       "   review_score  \\\n",
       "0  5              \n",
       "1  5              \n",
       "2  4              \n",
       "\n",
       "                                                                                                                                                           review_comment_message  \\\n",
       "0  Recebi bem antes do prazo estipulado.                                                                                                                                            \n",
       "1  Parabéns lojas lannister adorei comprar pela Internet seguro e prático Parabéns a todos feliz Páscoa                                                                             \n",
       "2  aparelho eficiente. no site a marca do aparelho esta impresso como 3desinfector e ao chegar esta com outro nome...atualizar com a marca correta uma vez que é o mesmo aparelho   \n",
       "\n",
       "  review_creation_date review_answer_timestamp  \n",
       "0  2017-04-21 00:00:00  2017-04-21 22:02:06     \n",
       "1  2018-03-01 00:00:00  2018-03-02 10:26:53     \n",
       "2  2018-05-22 00:00:00  2018-05-23 16:45:47     "
      ]
     },
     "execution_count": 11,
     "metadata": {},
     "output_type": "execute_result"
    },
    {
     "data": {
      "text/plain": [
       "(41753, 6)"
      ]
     },
     "execution_count": 11,
     "metadata": {},
     "output_type": "execute_result"
    }
   ],
   "source": [
    "# Resetting the reviews index and visualizing the data\n",
    "review_data = review_data.reset_index(drop=True)\n",
    "review_data.head(3)\n",
    "review_data.shape"
   ]
  },
  {
   "cell_type": "code",
   "execution_count": 12,
   "metadata": {},
   "outputs": [
    {
     "data": {
      "text/plain": [
       "0    recomendo              \n",
       "1    Super recomendo        \n",
       "2    Não chegou meu produto \n",
       "Name: review_comment_title, dtype: object"
      ]
     },
     "execution_count": 12,
     "metadata": {},
     "output_type": "execute_result"
    },
    {
     "data": {
      "text/plain": [
       "(11715,)"
      ]
     },
     "execution_count": 12,
     "metadata": {},
     "output_type": "execute_result"
    }
   ],
   "source": [
    "# Resetting the reviews titles index and visualizing the data\n",
    "review_data_title = review_data_title.reset_index(drop=True)\n",
    "review_data_title.head(3)\n",
    "review_data_title.shape"
   ]
  },
  {
   "cell_type": "code",
   "execution_count": 13,
   "metadata": {},
   "outputs": [],
   "source": [
    "# List of Portuguese stopwords to be used( Uncomment to see)\n",
    "#stopwords.words('portuguese')"
   ]
  },
  {
   "cell_type": "markdown",
   "metadata": {},
   "source": [
    "#### In the next cell, we would transform the reviews data by removing stopwords, using regular expressions module to accept only letters, tokenize those words and then make all the words lower case for consistency."
   ]
  },
  {
   "cell_type": "code",
   "execution_count": 13,
   "metadata": {},
   "outputs": [],
   "source": [
    " comments = []\n",
    "stop_words = set(stopwords.words('portuguese'))\n",
    "\n",
    "\n",
    "for words in review_data['review_comment_message']:\n",
    "    only_letters = re.sub(\"[^a-zA-Z]\", \" \",words)\n",
    "    tokens = nltk.word_tokenize(only_letters) #tokenize the sentences\n",
    "    lower_case = [l.lower() for l in tokens] #convert all letters to lower case\n",
    "    filtered_result = list(filter(lambda l: l not in stop_words, lower_case)) #Remove stopwords from the comments\n",
    "    comments.append(' '.join(filtered_result))"
   ]
  },
  {
   "cell_type": "code",
   "execution_count": 14,
   "metadata": {},
   "outputs": [],
   "source": [
    "# Visualizing the cleaned reviews data(uncomment to see)\n",
    "#comments"
   ]
  },
  {
   "cell_type": "markdown",
   "metadata": {},
   "source": [
    "# TOPIC MODELLING WITH LDA"
   ]
  },
  {
   "cell_type": "code",
   "execution_count": 15,
   "metadata": {},
   "outputs": [
    {
     "data": {
      "image/png": "[encoded data removed]",
      "text/plain": [
       "<Figure size 1080x667.491 with 1 Axes>"
      ]
     },
     "metadata": {
      "needs_background": "light"
     },
     "output_type": "display_data"
    }
   ],
   "source": [
    "# Loading the library with the CountVectorizer method\n",
    "def plot_10_most_common_words(count_data, count_vectorizer):\n",
    "    words = count_vectorizer.get_feature_names()\n",
    "    total_counts = np.zeros(len(words))\n",
    "    for t in count_data:\n",
    "        total_counts+=t.toarray()[0]\n",
    "    \n",
    "    count_dict = (zip(words, total_counts))\n",
    "    count_dict = sorted(count_dict, key=lambda x:x[1], reverse=True)[0:10]\n",
    "    words = [w[0] for w in count_dict]\n",
    "    counts = [w[1] for w in count_dict]\n",
    "    x_pos = np.arange(len(words)) \n",
    "    \n",
    "    plt.figure(2, figsize=(15, 15/1.6180))\n",
    "    plt.subplot(title='10 most popular words')\n",
    "    sns.set_context(\"notebook\", font_scale=1.25, rc={\"lines.linewidth\": 2.5})\n",
    "    sns.barplot(x_pos, counts, palette='husl')\n",
    "    plt.xticks(x_pos, words, rotation=90) \n",
    "    plt.xlabel('popular_words')\n",
    "    plt.ylabel('counts')\n",
    "    plt.show()\n",
    "count_vectorizer = CountVectorizer()\n",
    "count_data = count_vectorizer.fit_transform(comments)# Fit and transform the processed words\n",
    "plot_10_most_common_words(count_data, count_vectorizer)# Visualising the 10 most popular words\n"
   ]
  },
  {
   "cell_type": "code",
   "execution_count": 17,
   "metadata": {
    "scrolled": true
   },
   "outputs": [
    {
     "data": {
      "text/plain": [
       "LatentDirichletAllocation(n_components=12, n_jobs=-1)"
      ]
     },
     "execution_count": 17,
     "metadata": {},
     "output_type": "execute_result"
    },
    {
     "name": "stdout",
     "output_type": "stream",
     "text": [
      "LDA GENERATED TOPICS:\n",
      "\n",
      "Topic #0:\n",
      "bom recomendo produto pre demorou todos pouco cor achei mto\n",
      "\n",
      "Topic #1:\n",
      "comprar sempre loja lannister rel gio vel produtos compro site\n",
      "\n",
      "Topic #2:\n",
      "produto entrega correios ter problemas demora loja entregue problema es\n",
      "\n",
      "Topic #3:\n",
      "gostei fiquei satisfeita satisfeito produto compra bastante obrigado pel primeira\n",
      "\n",
      "Topic #4:\n",
      "produto qualidade bem veio caixa embalagem tima ser ncia material\n",
      "\n",
      "Topic #5:\n",
      "entrega pida produto super parab ns recomendo data compra qualidade\n",
      "\n",
      "Topic #6:\n",
      "prazo antes produto chegou bem entregue entrega dentro recomendo previsto\n",
      "\n",
      "Topic #7:\n",
      "produto tudo excelente timo conforme certo recomendo chegou perfeito pido\n",
      "\n",
      "Topic #8:\n",
      "recebi produto ainda at comprei dia entregue nao agora produtos\n",
      "\n",
      "Topic #9:\n",
      "produto compra recebi quero dias pedido pra dinheiro comprei fiz\n",
      "\n",
      "Topic #10:\n",
      "comprei recebi veio nota ok dois apenas duas fiscal chegou\n",
      "\n",
      "Topic #11:\n",
      "produto veio boa otimo ainda qualidade defeito frete casa correio\n"
     ]
    }
   ],
   "source": [
    "def print_top_topics(model, count_vectorizer, n_top_words):\n",
    "    words = count_vectorizer.get_feature_names()\n",
    "    for topic_idx, topic in enumerate(model.components_):\n",
    "        print(\"\\nTopic #%d:\" % topic_idx)\n",
    "        print(\" \".join([words[i]\n",
    "                        for i in topic.argsort()[:-n_top_words - 1:-1]]))\n",
    "\n",
    "number_topics = 12 # Printing top 12 topics\n",
    "number_words = 10\n",
    "lda = LDA(n_components=number_topics, n_jobs=-1)\n",
    "lda.fit(count_data)# Print the topics generated by the LDA model\n",
    "print(\"LDA GENERATED TOPICS:\")\n",
    "print_top_topics(lda, count_vectorizer, number_words)"
   ]
  },
  {
   "cell_type": "code",
   "execution_count": 19,
   "metadata": {},
   "outputs": [
    {
     "data": {
      "text/html": [
       "<div>\n",
       "<style scoped>\n",
       "    .dataframe tbody tr th:only-of-type {\n",
       "        vertical-align: middle;\n",
       "    }\n",
       "\n",
       "    .dataframe tbody tr th {\n",
       "        vertical-align: top;\n",
       "    }\n",
       "\n",
       "    .dataframe thead th {\n",
       "        text-align: right;\n",
       "    }\n",
       "</style>\n",
       "<table border=\"1\" class=\"dataframe\">\n",
       "  <thead>\n",
       "    <tr style=\"text-align: right;\">\n",
       "      <th></th>\n",
       "      <th>Model_Topics</th>\n",
       "      <th>Translation</th>\n",
       "    </tr>\n",
       "  </thead>\n",
       "  <tbody>\n",
       "    <tr>\n",
       "      <th>0</th>\n",
       "      <td>bom recomendo produto pre demorou todos pouco cor achei mto</td>\n",
       "      <td>good recommend product pre took all little color I found a lot</td>\n",
       "    </tr>\n",
       "    <tr>\n",
       "      <th>1</th>\n",
       "      <td>comprar sempre loja lannister rel gio vel produtos compro site</td>\n",
       "      <td>always buy lannister store watch products buy site</td>\n",
       "    </tr>\n",
       "    <tr>\n",
       "      <th>2</th>\n",
       "      <td>produto entrega correios ter problemas demora loja entregue problema es</td>\n",
       "      <td>product delivery couriers having problems delay store delivered problem es</td>\n",
       "    </tr>\n",
       "    <tr>\n",
       "      <th>3</th>\n",
       "      <td>gostei fiquei satisfeita satisfeito produto compra bastante obrigado pel primeira</td>\n",
       "      <td>I liked it I was satisfied satisfied product purchase thank you very much for the first</td>\n",
       "    </tr>\n",
       "    <tr>\n",
       "      <th>4</th>\n",
       "      <td>produto qualidade bem veio caixa embalagem tima ser ncia material</td>\n",
       "      <td>product quality well came box packaging great be material</td>\n",
       "    </tr>\n",
       "    <tr>\n",
       "      <th>5</th>\n",
       "      <td>entrega pida produto super parab ns recomendo data compra qualidade</td>\n",
       "      <td>fast delivery super congratulations product we recommend date purchase quality</td>\n",
       "    </tr>\n",
       "    <tr>\n",
       "      <th>6</th>\n",
       "      <td>prazo antes produto chegou bem entregue entrega dentro recomendo previsto</td>\n",
       "      <td>deadline before product arrived well delivered delivery within recommend expected</td>\n",
       "    </tr>\n",
       "    <tr>\n",
       "      <th>7</th>\n",
       "      <td>produto tudo excelente timo conforme certo recomendo chegou perfeito pido</td>\n",
       "      <td>product all excellent great as sure recommend arrived perfect pido</td>\n",
       "    </tr>\n",
       "    <tr>\n",
       "      <th>8</th>\n",
       "      <td>recebi produto ainda at comprei dia entregue nao agora produtos</td>\n",
       "      <td>I still received product until I bought it</td>\n",
       "    </tr>\n",
       "    <tr>\n",
       "      <th>9</th>\n",
       "      <td>produto compra recebi quero dias pedido pra dinheiro comprei fiz</td>\n",
       "      <td>product purchase I received I want days request for money I bought I did</td>\n",
       "    </tr>\n",
       "    <tr>\n",
       "      <th>10</th>\n",
       "      <td>comprei recebi veio nota ok dois apenas duas fiscal chegou</td>\n",
       "      <td>bought I received came ok note two only two tax arrived</td>\n",
       "    </tr>\n",
       "    <tr>\n",
       "      <th>11</th>\n",
       "      <td>produto veio boa otimo ainda qualidade defeito frete casa correio</td>\n",
       "      <td>product came good great still quality defect shipping house mail</td>\n",
       "    </tr>\n",
       "  </tbody>\n",
       "</table>\n",
       "</div>"
      ],
      "text/plain": [
       "                                                                         Model_Topics  \\\n",
       "0   bom recomendo produto pre demorou todos pouco cor achei mto                         \n",
       "1   comprar sempre loja lannister rel gio vel produtos compro site                      \n",
       "2   produto entrega correios ter problemas demora loja entregue problema es             \n",
       "3   gostei fiquei satisfeita satisfeito produto compra bastante obrigado pel primeira   \n",
       "4   produto qualidade bem veio caixa embalagem tima ser ncia material                   \n",
       "5   entrega pida produto super parab ns recomendo data compra qualidade                 \n",
       "6   prazo antes produto chegou bem entregue entrega dentro recomendo previsto           \n",
       "7   produto tudo excelente timo conforme certo recomendo chegou perfeito pido           \n",
       "8   recebi produto ainda at comprei dia entregue nao agora produtos                     \n",
       "9   produto compra recebi quero dias pedido pra dinheiro comprei fiz                    \n",
       "10  comprei recebi veio nota ok dois apenas duas fiscal chegou                          \n",
       "11  produto veio boa otimo ainda qualidade defeito frete casa correio                   \n",
       "\n",
       "                                                                                 Translation  \n",
       "0   good recommend product pre took all little color I found a lot                            \n",
       "1   always buy lannister store watch products buy site                                        \n",
       "2   product delivery couriers having problems delay store delivered problem es                \n",
       "3   I liked it I was satisfied satisfied product purchase thank you very much for the first   \n",
       "4   product quality well came box packaging great be material                                 \n",
       "5   fast delivery super congratulations product we recommend date purchase quality            \n",
       "6   deadline before product arrived well delivered delivery within recommend expected         \n",
       "7   product all excellent great as sure recommend arrived perfect pido                        \n",
       "8   I still received product until I bought it                                                \n",
       "9   product purchase I received I want days request for money I bought I did                  \n",
       "10  bought I received came ok note two only two tax arrived                                   \n",
       "11  product came good great still quality defect shipping house mail                          "
      ]
     },
     "execution_count": 19,
     "metadata": {},
     "output_type": "execute_result"
    }
   ],
   "source": [
    "# Translating the topics\n",
    "Lda_model = pd.DataFrame({'Model_Topics':['bom recomendo produto pre demorou todos pouco cor achei mto','comprar sempre loja lannister rel gio vel produtos compro site','produto entrega correios ter problemas demora loja entregue problema es','gostei fiquei satisfeita satisfeito produto compra bastante obrigado pel primeira','produto qualidade bem veio caixa embalagem tima ser ncia material','entrega pida produto super parab ns recomendo data compra qualidade','prazo antes produto chegou bem entregue entrega dentro recomendo previsto','produto tudo excelente timo conforme certo recomendo chegou perfeito pido','recebi produto ainda at comprei dia entregue nao agora produtos','produto compra recebi quero dias pedido pra dinheiro comprei fiz','comprei recebi veio nota ok dois apenas duas fiscal chegou','produto veio boa otimo ainda qualidade defeito frete casa correio']})\n",
    "Lda_model['Translation'] = Lda_model['Model_Topics'].apply(translator.translate) \n",
    "Lda_model"
   ]
  },
  {
   "cell_type": "markdown",
   "metadata": {},
   "source": [
    "We can now see the popular topics that are made by customers. \n",
    "Topic 2 talked about having delivery problems or deliveries made late\n",
    "Topic 3 talked about the great quality of the delivered goods\n",
    "Topic 6 talked about the product arriving before deadline\n",
    " So far, there has been lots of positive comments made by customers."
   ]
  },
  {
   "cell_type": "markdown",
   "metadata": {},
   "source": [
    "## Performing similar operations on review titles"
   ]
  },
  {
   "cell_type": "code",
   "execution_count": 21,
   "metadata": {},
   "outputs": [],
   "source": [
    " comments1 = []\n",
    "stop_words = set(stopwords.words('portuguese'))\n",
    "\n",
    "\n",
    "for words in review_data_title:\n",
    "    only_letters = re.sub(\"[^a-zA-Z]\", \" \",words)\n",
    "    tokens = nltk.word_tokenize(only_letters) #tokenize the sentences\n",
    "    lower_case = [l.lower() for l in tokens] #convert all letters to lower case\n",
    "    filtered_result = list(filter(lambda l: l not in stop_words, lower_case)) #Remove stopwords from the comments\n",
    "    comments1.append(' '.join(filtered_result))"
   ]
  },
  {
   "cell_type": "code",
   "execution_count": 22,
   "metadata": {},
   "outputs": [
    {
     "data": {
      "image/png": "[encoded data removed]",
      "text/plain": [
       "<Figure size 1080x667.491 with 1 Axes>"
      ]
     },
     "metadata": {
      "needs_background": "light"
     },
     "output_type": "display_data"
    }
   ],
   "source": [
    "# Load the library with the CountVectorizer method\n",
    "def plot_10_most_common_words(count_data, count_vectorizer):\n",
    "    words = count_vectorizer.get_feature_names()\n",
    "    total_counts = np.zeros(len(words))\n",
    "    for t in count_data:\n",
    "        total_counts+=t.toarray()[0]\n",
    "    \n",
    "    count_dict = (zip(words, total_counts))\n",
    "    count_dict = sorted(count_dict, key=lambda x:x[1], reverse=True)[0:10]\n",
    "    words = [w[0] for w in count_dict]\n",
    "    counts = [w[1] for w in count_dict]\n",
    "    x_pos = np.arange(len(words)) \n",
    "    \n",
    "    plt.figure(2, figsize=(15, 15/1.6180))\n",
    "    plt.subplot(title='10 most common words')\n",
    "    sns.set_context(\"notebook\", font_scale=1.25, rc={\"lines.linewidth\": 2.5})\n",
    "    sns.barplot(x_pos, counts, palette='husl')\n",
    "    plt.xticks(x_pos, words, rotation=90) \n",
    "    plt.xlabel('words')\n",
    "    plt.ylabel('counts')\n",
    "    plt.show()# Initialise the count vectorizer with the English stop words\n",
    "count_vectorizer = CountVectorizer()# Fit and transform the processed titles\n",
    "count_data = count_vectorizer.fit_transform(comments1)# Visualise the 10 most common words\n",
    "plot_10_most_common_words(count_data, count_vectorizer)\n"
   ]
  },
  {
   "cell_type": "code",
   "execution_count": 23,
   "metadata": {
    "scrolled": true
   },
   "outputs": [
    {
     "data": {
      "text/plain": [
       "LatentDirichletAllocation(n_components=12, n_jobs=-1)"
      ]
     },
     "execution_count": 23,
     "metadata": {},
     "output_type": "execute_result"
    },
    {
     "name": "stdout",
     "output_type": "stream",
     "text": [
      "LDA GENERATED TOPICS:\n",
      "\n",
      "Topic #0:\n",
      "prazo chegou antes regular pessimo todos faltou demora site certeza\n",
      "\n",
      "Topic #1:\n",
      "ssimo top avalia sempre lannister linda bem falso kit mochila\n",
      "\n",
      "Topic #2:\n",
      "produto defeito vel faltando veio rapido dez confi melhor zero\n",
      "\n",
      "Topic #3:\n",
      "boa otima entrega atraso lindo satisfa original relogio decep recebimento\n",
      "\n",
      "Topic #4:\n",
      "tudo perfeito ruim produto certo ssima diferente rapidez servi estrelas\n",
      "\n",
      "Topic #5:\n",
      "recomendo super amei sim recebido incorreto recomend razo divergente indico\n",
      "\n",
      "Topic #6:\n",
      "entrega atendimento falta vendedor rapida errada produtos ncia incompleta cor\n",
      "\n",
      "Topic #7:\n",
      "produto timo recomendado errado parab ns funciona show veio pre\n",
      "\n",
      "Topic #8:\n",
      "tima loja qualidade pido maravilhoso recomento comprei ria devolu erro\n",
      "\n",
      "Topic #9:\n",
      "recebi produto entregue compra nao ainda pedido adorei incompleto mercadoria\n",
      "\n",
      "Topic #10:\n",
      "excelente entrega pida gostei nota satisfeito satisfeita gio rel perfeita\n",
      "\n",
      "Topic #11:\n",
      "bom otimo ok bonito aprovado mt aten esperava restri enganado\n"
     ]
    }
   ],
   "source": [
    "# Helper function\n",
    "def print_top_topics(model, count_vectorizer, n_top_words):\n",
    "    words = count_vectorizer.get_feature_names()\n",
    "    for topic_idx, topic in enumerate(model.components_):\n",
    "        print(\"\\nTopic #%d:\" % topic_idx)\n",
    "        print(\" \".join([words[i]\n",
    "                        for i in topic.argsort()[:-n_top_words - 1:-1]]))\n",
    "        \n",
    "# Tweak the two parameters below\n",
    "number_topics = 12\n",
    "number_words = 10# Create and fit the LDA model\n",
    "lda = LDA(n_components=number_topics, n_jobs=-1)\n",
    "lda.fit(count_data)# Print the topics found by the LDA model\n",
    "print(\"LDA GENERATED TOPICS:\")\n",
    "print_top_topics(lda, count_vectorizer, number_words)"
   ]
  },
  {
   "cell_type": "code",
   "execution_count": 20,
   "metadata": {},
   "outputs": [
    {
     "data": {
      "text/html": [
       "<div>\n",
       "<style scoped>\n",
       "    .dataframe tbody tr th:only-of-type {\n",
       "        vertical-align: middle;\n",
       "    }\n",
       "\n",
       "    .dataframe tbody tr th {\n",
       "        vertical-align: top;\n",
       "    }\n",
       "\n",
       "    .dataframe thead th {\n",
       "        text-align: right;\n",
       "    }\n",
       "</style>\n",
       "<table border=\"1\" class=\"dataframe\">\n",
       "  <thead>\n",
       "    <tr style=\"text-align: right;\">\n",
       "      <th></th>\n",
       "      <th>Titles_Model_Topics</th>\n",
       "      <th>Translation</th>\n",
       "    </tr>\n",
       "  </thead>\n",
       "  <tbody>\n",
       "    <tr>\n",
       "      <th>0</th>\n",
       "      <td>prazo chegou antes regular pessimo todos faltou demora site certeza</td>\n",
       "      <td>deadline arrived before regular pessimo all missed delay site sure</td>\n",
       "    </tr>\n",
       "    <tr>\n",
       "      <th>1</th>\n",
       "      <td>ssimo top avalia sempre lannister linda bem falso kit mochila</td>\n",
       "      <td>ssimo top always evaluates lannister beautiful and fake kit backpack</td>\n",
       "    </tr>\n",
       "    <tr>\n",
       "      <th>2</th>\n",
       "      <td>produto defeito vel faltando veio rapido dez confi melhor zero</td>\n",
       "      <td>missing defect product came fast ten trusted best zero</td>\n",
       "    </tr>\n",
       "    <tr>\n",
       "      <th>3</th>\n",
       "      <td>boa otima entrega atraso lindo satisfa original relogio decep recebimento</td>\n",
       "      <td>good great delivery delay beautiful satisfies original watch disappoint receipt</td>\n",
       "    </tr>\n",
       "    <tr>\n",
       "      <th>4</th>\n",
       "      <td>tudo perfeito ruim produto certo ssima diferente rapidez servi estrelas</td>\n",
       "      <td>everything perfect bad product right very different speed service stars</td>\n",
       "    </tr>\n",
       "    <tr>\n",
       "      <th>5</th>\n",
       "      <td>recomendo super amei sim recebido incorreto recomend razo divergente indico</td>\n",
       "      <td>recommend super loved yes received incorrect recomend reason divergent</td>\n",
       "    </tr>\n",
       "    <tr>\n",
       "      <th>6</th>\n",
       "      <td>entrega atendimento falta vendedor rapida errada produtos ncia incompleta cor</td>\n",
       "      <td>delivery service missing seller fast wrong products incomplete color</td>\n",
       "    </tr>\n",
       "    <tr>\n",
       "      <th>7</th>\n",
       "      <td>produto timo recomendado errado parab ns funciona show veio pre</td>\n",
       "      <td>optimum product recommended wrong for we work shows came pre</td>\n",
       "    </tr>\n",
       "    <tr>\n",
       "      <th>8</th>\n",
       "      <td>tima loja qualidade pido maravilhoso recomento comprei ria devolu erro</td>\n",
       "      <td>great store quality pido wonderful recommend buy back error</td>\n",
       "    </tr>\n",
       "    <tr>\n",
       "      <th>9</th>\n",
       "      <td>recebi produto entregue compra nao ainda pedido adorei incompleto mercadoria</td>\n",
       "      <td>received product delivered purchase not yet ordered loved incomplete merchandise</td>\n",
       "    </tr>\n",
       "    <tr>\n",
       "      <th>10</th>\n",
       "      <td>excelente entrega pida gostei nota satisfeito satisfeita gio rel perfeita</td>\n",
       "      <td>excellent fast delivery I like it satisfied satisfied satisfied watch perfect</td>\n",
       "    </tr>\n",
       "    <tr>\n",
       "      <th>11</th>\n",
       "      <td>bom otimo ok bonito aprovado mt aten esperava restri enganado</td>\n",
       "      <td>good great ok beautiful approved mt aten expected restri deceived</td>\n",
       "    </tr>\n",
       "  </tbody>\n",
       "</table>\n",
       "</div>"
      ],
      "text/plain": [
       "                                                              Titles_Model_Topics  \\\n",
       "0             prazo chegou antes regular pessimo todos faltou demora site certeza   \n",
       "1                   ssimo top avalia sempre lannister linda bem falso kit mochila   \n",
       "2                  produto defeito vel faltando veio rapido dez confi melhor zero   \n",
       "3       boa otima entrega atraso lindo satisfa original relogio decep recebimento   \n",
       "4         tudo perfeito ruim produto certo ssima diferente rapidez servi estrelas   \n",
       "5     recomendo super amei sim recebido incorreto recomend razo divergente indico   \n",
       "6   entrega atendimento falta vendedor rapida errada produtos ncia incompleta cor   \n",
       "7                 produto timo recomendado errado parab ns funciona show veio pre   \n",
       "8          tima loja qualidade pido maravilhoso recomento comprei ria devolu erro   \n",
       "9    recebi produto entregue compra nao ainda pedido adorei incompleto mercadoria   \n",
       "10      excelente entrega pida gostei nota satisfeito satisfeita gio rel perfeita   \n",
       "11                  bom otimo ok bonito aprovado mt aten esperava restri enganado   \n",
       "\n",
       "                                                                          Translation  \n",
       "0                 deadline arrived before regular pessimo all missed delay site sure   \n",
       "1               ssimo top always evaluates lannister beautiful and fake kit backpack   \n",
       "2                             missing defect product came fast ten trusted best zero   \n",
       "3    good great delivery delay beautiful satisfies original watch disappoint receipt   \n",
       "4            everything perfect bad product right very different speed service stars   \n",
       "5             recommend super loved yes received incorrect recomend reason divergent   \n",
       "6               delivery service missing seller fast wrong products incomplete color   \n",
       "7                       optimum product recommended wrong for we work shows came pre   \n",
       "8                        great store quality pido wonderful recommend buy back error   \n",
       "9   received product delivered purchase not yet ordered loved incomplete merchandise   \n",
       "10     excellent fast delivery I like it satisfied satisfied satisfied watch perfect   \n",
       "11                 good great ok beautiful approved mt aten expected restri deceived   "
      ]
     },
     "execution_count": 20,
     "metadata": {},
     "output_type": "execute_result"
    }
   ],
   "source": [
    "pd.options.display.max_colwidth = 100\n",
    "\n",
    "Lda_model = pd.DataFrame({'Titles_Model_Topics':['prazo chegou antes regular pessimo todos faltou demora site certeza','ssimo top avalia sempre lannister linda bem falso kit mochila','produto defeito vel faltando veio rapido dez confi melhor zero','boa otima entrega atraso lindo satisfa original relogio decep recebimento','tudo perfeito ruim produto certo ssima diferente rapidez servi estrelas','recomendo super amei sim recebido incorreto recomend razo divergente indico','entrega atendimento falta vendedor rapida errada produtos ncia incompleta cor','produto timo recomendado errado parab ns funciona show veio pre','tima loja qualidade pido maravilhoso recomento comprei ria devolu erro','recebi produto entregue compra nao ainda pedido adorei incompleto mercadoria','excelente entrega pida gostei nota satisfeito satisfeita gio rel perfeita','bom otimo ok bonito aprovado mt aten esperava restri enganado']})\n",
    "Lda_model['Translation'] = Lda_model['Titles_Model_Topics'].apply(translator.translate) \n",
    "Lda_model\n",
    "\n",
    "# ML generated topics"
   ]
  },
  {
   "cell_type": "markdown",
   "metadata": {},
   "source": [
    "From what can be seen above, there are also negative topics made by customers."
   ]
  },
  {
   "cell_type": "code",
   "execution_count": null,
   "metadata": {},
   "outputs": [],
   "source": []
  }
 ],
 "metadata": {
  "kernelspec": {
   "display_name": "Python 3",
   "language": "python",
   "name": "python3"
  },
  "language_info": {
   "codemirror_mode": {
    "name": "ipython",
    "version": 3
   },
   "file_extension": ".py",
   "mimetype": "text/x-python",
   "name": "python",
   "nbconvert_exporter": "python",
   "pygments_lexer": "ipython3",
   "version": "3.7.6"
  }
 },
 "nbformat": 4,
 "nbformat_minor": 4
}
